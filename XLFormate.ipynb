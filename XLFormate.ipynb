{
 "cells": [
  {
   "cell_type": "code",
   "execution_count": 3,
   "id": "e8d22d07-0fb3-42e9-867b-328679e099d8",
   "metadata": {},
   "outputs": [],
   "source": [
    "import pandas as pd"
   ]
  },
  {
   "cell_type": "code",
   "execution_count": 5,
   "id": "53a6ae6e-8605-4152-8198-4b43aa89481b",
   "metadata": {},
   "outputs": [],
   "source": [
    "# pd.read_excel('output.xlsx',index_col='Unnamed: 0')"
   ]
  },
  {
   "cell_type": "code",
   "execution_count": 2,
   "id": "aee84bb9-e092-494e-9803-49efef11ba81",
   "metadata": {},
   "outputs": [],
   "source": [
    "# pd.read_excel('output.xlsx',sheet_name='Sheet_name_2')"
   ]
  },
  {
   "cell_type": "code",
   "execution_count": null,
   "id": "0abd2a89-98ac-479f-b832-c5a640488d7b",
   "metadata": {},
   "outputs": [],
   "source": [
    "# pd.read_csv('question_answer_pairs.txt',sep='\\t')"
   ]
  }
 ],
 "metadata": {
  "kernelspec": {
   "display_name": "venv",
   "language": "python",
   "name": "venv"
  },
  "language_info": {
   "codemirror_mode": {
    "name": "ipython",
    "version": 3
   },
   "file_extension": ".py",
   "mimetype": "text/x-python",
   "name": "python",
   "nbconvert_exporter": "python",
   "pygments_lexer": "ipython3",
   "version": "3.13.1"
  }
 },
 "nbformat": 4,
 "nbformat_minor": 5
}
