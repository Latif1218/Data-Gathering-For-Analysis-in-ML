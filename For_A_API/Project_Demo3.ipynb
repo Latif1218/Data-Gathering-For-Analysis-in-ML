{
 "cells": [
  {
   "cell_type": "code",
   "execution_count": 1,
   "id": "e0aa15c7-f7be-4bfc-9f9c-b911d470c840",
   "metadata": {},
   "outputs": [],
   "source": [
    "import pandas as pd\n",
    "import requests\n",
    "from bs4 import BeautifulSoup"
   ]
  },
  {
   "cell_type": "code",
   "execution_count": 4,
   "id": "9f2669aa-5e5b-41a7-865e-cdd11f4e7844",
   "metadata": {},
   "outputs": [],
   "source": [
    "webpage = requests.get('https://tuitionterminal.com.bd/job-board?city_id=all').text"
   ]
  },
  {
   "cell_type": "code",
   "execution_count": 5,
   "id": "25b78e0f-921e-4a3b-b7f9-53adccfd6ccc",
   "metadata": {},
   "outputs": [],
   "source": [
    "soup = BeautifulSoup(webpage, \"lxml\")"
   ]
  },
  {
   "cell_type": "code",
   "execution_count": 7,
   "id": "966f013f-c5ea-4331-8a8f-c89a457051cb",
   "metadata": {},
   "outputs": [
    {
     "data": {
      "text/plain": [
       "<body style=\"background-color: #f5f6fa; min-width: 337px\">\n",
       "<!-- ------------------------------------------------------------ -->\n",
       "<div id=\"root\"></div>\n",
       "<div itemscope=\"\" itemtype=\"http://schema.org/WebPage\">\n",
       "<span itemprop=\"name\" style=\"display: none\">Tuition Terminal</span>\n",
       "<meta content=\"'Tuition Terminal' is a leading full-stack learning platform in Bangladesh.\" itemprop=\"description\"/>\n",
       "<div itemprop=\"publisher\" itemscope=\"\" itemtype=\"http://schema.org/Organization\">\n",
       "<meta content=\"Tuition Terminal\" itemprop=\"name\"/>\n",
       "<meta content=\"https://tuitionterminal.com.bd\" itemprop=\"url\"/>\n",
       "</div>\n",
       "</div>\n",
       "<div itemprop=\"mainEntityOfPage\" itemscope=\"\" itemtype=\"https://schema.org/WebPage\">\n",
       "<meta content=\"https://tuitionterminal.com.bd/\" itemprop=\"url\"/>\n",
       "<meta content=\"Tuition Terminal Website\" itemprop=\"name\"/>\n",
       "<meta content=\"'Tuition Terminal' is a leading full-stack learning platform in Bangladesh.\" itemprop=\"description\"/>\n",
       "</div>\n",
       "<!-- --------------------------------------------------------------------- -->\n",
       "<script crossorigin=\"anonymous\" integrity=\"sha384-geWF76RCwLtnZ8qwWowPQNguL3RmwHVBC9FhGdlKrxdiJJigb/j/68SIy3Te4Bkz\" src=\"https://cdn.jsdelivr.net/npm/bootstrap@5.3.0/dist/js/bootstrap.bundle.min.js\"></script>\n",
       "<script>\n",
       "      $(document).ready(function () {\n",
       "        $(\"#myModal\").on(\"hidden.bs.modal\", function () {\n",
       "          $(\".modal-backdrop\").remove();\n",
       "        });\n",
       "      });\n",
       "\n",
       "      window.addEventListener(\"popstate\", function () {\n",
       "        if ($(\".modal.fade.show\").length) {\n",
       "          $(\".modal.fade.show [data-bs-dismiss='modal']\").click();\n",
       "        }\n",
       "      });\n",
       "    </script>\n",
       "<!--Start of Tawk.to Script-->\n",
       "<script type=\"text/javascript\">\n",
       "      var Tawk_API = Tawk_API || {},\n",
       "        Tawk_LoadStart = new Date();\n",
       "      (function () {\n",
       "        var s1 = document.createElement(\"script\"),\n",
       "          s0 = document.getElementsByTagName(\"script\")[0];\n",
       "        s1.async = true;\n",
       "        s1.src = \"https://embed.tawk.to/67aa12c33a842732607c81a2/1ijo5ijti\";\n",
       "        s1.charset = \"UTF-8\";\n",
       "        s1.setAttribute(\"crossorigin\", \"*\");\n",
       "        s0.parentNode.insertBefore(s1, s0);\n",
       "      })();\n",
       "    </script>\n",
       "<!--End of Tawk.to Script-->\n",
       "<!-- Google Tag Manager (noscript) -->\n",
       "<noscript><iframe height=\"0\" src=\"https://www.googletagmanager.com/ns.html?id=GTM-MCX2SQR\" style=\"display: none; visibility: hidden\" width=\"0\"></iframe></noscript>\n",
       "<!-- End Google Tag Manager (noscript) -->\n",
       "</body>"
      ]
     },
     "execution_count": 7,
     "metadata": {},
     "output_type": "execute_result"
    }
   ],
   "source": [
    "soup.body"
   ]
  },
  {
   "cell_type": "code",
   "execution_count": null,
   "id": "62f63dff-437a-4205-afc2-9ed6f93294aa",
   "metadata": {},
   "outputs": [],
   "source": [
    "soup.find('div',class_='container py-4')"
   ]
  }
 ],
 "metadata": {
  "kernelspec": {
   "display_name": "venv",
   "language": "python",
   "name": "venv"
  },
  "language_info": {
   "codemirror_mode": {
    "name": "ipython",
    "version": 3
   },
   "file_extension": ".py",
   "mimetype": "text/x-python",
   "name": "python",
   "nbconvert_exporter": "python",
   "pygments_lexer": "ipython3",
   "version": "3.13.1"
  }
 },
 "nbformat": 4,
 "nbformat_minor": 5
}
